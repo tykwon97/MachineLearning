{
  "nbformat": 4,
  "nbformat_minor": 0,
  "metadata": {
    "colab": {
      "name": "week1_201814116_권태윤.ipynb",
      "provenance": [],
      "collapsed_sections": []
    },
    "kernelspec": {
      "name": "python3",
      "display_name": "Python 3"
    },
    "language_info": {
      "name": "python"
    }
  },
  "cells": [
    {
      "cell_type": "code",
      "metadata": {
        "colab": {
          "base_uri": "https://localhost:8080/"
        },
        "id": "EwWXwLyD3aAM",
        "outputId": "f35b1e79-8080-47c8-eaff-c4145d17186c"
      },
      "source": [
        "from google.colab import drive\n",
        "drive.mount('/gdrive', force_remount=True)"
      ],
      "execution_count": 1,
      "outputs": [
        {
          "output_type": "stream",
          "name": "stdout",
          "text": [
            "Mounted at /gdrive\n"
          ]
        }
      ]
    },
    {
      "cell_type": "code",
      "metadata": {
        "colab": {
          "base_uri": "https://localhost:8080/"
        },
        "id": "CCFsyLdt4J7v",
        "outputId": "f08b20b2-47af-496a-9f3d-b484dd7d9700"
      },
      "source": [
        "file_path = \"/gdrive/My Drive/colab/실습예제1.txt\"\n",
        "\n",
        "with open(file_path, \"r\", encoding=\"utf8\") as inFile :\n",
        "    lines = inFile.readlines()\n",
        "    \n",
        "for line in lines:\n",
        "    print(line)"
      ],
      "execution_count": 2,
      "outputs": [
        {
          "output_type": "stream",
          "name": "stdout",
          "text": [
            "/gdrive/My Drive -> 개인의 구글 드라이버 경로\n",
            "\n",
            "/gdrive/My Drive/colab -> 실습 폴더 경로\n",
            "\n",
            "\n",
            "\n",
            "다음 실습 시간부터 방금 했던 대로 파일을 업로드하여 사용하시면 됩니다.\n"
          ]
        }
      ]
    }
  ]
}