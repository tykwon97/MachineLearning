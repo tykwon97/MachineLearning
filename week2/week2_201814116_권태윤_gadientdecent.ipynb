{
  "nbformat": 4,
  "nbformat_minor": 0,
  "metadata": {
    "colab": {
      "name": "week2_201814116_권태윤_gadientdecent.ipynb",
      "provenance": [],
      "collapsed_sections": []
    },
    "kernelspec": {
      "name": "python3",
      "display_name": "Python 3"
    },
    "accelerator": "GPU"
  },
  "cells": [
    {
      "cell_type": "code",
      "metadata": {
        "id": "FdZnDI8azinw",
        "colab": {
          "base_uri": "https://localhost:8080/"
        },
        "outputId": "fd9720e1-1d86-4210-f267-dfb894e162a7"
      },
      "source": [
        "from google.colab import drive\n",
        "drive.mount(\"/gdrive\", force_remount=True)"
      ],
      "execution_count": 1,
      "outputs": [
        {
          "output_type": "stream",
          "name": "stdout",
          "text": [
            "Mounted at /gdrive\n"
          ]
        }
      ]
    },
    {
      "cell_type": "code",
      "metadata": {
        "id": "JBGiT1Qw_Qzo",
        "colab": {
          "base_uri": "https://localhost:8080/"
        },
        "outputId": "85b58302-b1c4-4e22-be5e-997d49c30556"
      },
      "source": [
        "import numpy as np\n",
        "import torch\n",
        "\n",
        "# 데이터 읽기 함수\n",
        "def load_dataset(file):\n",
        "\n",
        "  data = np.loadtxt(file)\n",
        "  print(\"DATA=\",data)\n",
        "  \n",
        "  x = data[:,0:-1]\n",
        "  print(\"X=\",x)\n",
        "  \n",
        "  y = np.reshape(data[:,-1],(3,1))\n",
        "  print(\"Y=\",y)\n",
        " \n",
        "  # 텐서로 변경\n",
        "  # 이곳을 채우세요.\n",
        "  x=torch.FloatTensor(x)\n",
        "  y=torch.FloatTensor(y)\n",
        "\n",
        "  return (x, y)\n",
        "\n",
        "# 텐서를 리스트로 바꾸는 함수\n",
        "def tensor2list(input_tensor):\n",
        "  return input_tensor.cpu().detach().numpy().tolist()\n",
        "\n",
        "x, y = load_dataset(\"/gdrive/My Drive/colab/gda/train.txt\")\n",
        "\n",
        "# 가중치 초기화\n",
        "w = torch.randn(1)*3.0\n",
        "print(\"\\nInit: w = {0}\\n\".format(tensor2list(w)))\n",
        "\n",
        "# 학습률\n",
        "alpha = 0.1\n",
        "\n",
        "# 학습데이터 수\n",
        "m = y.size(0)\n",
        "\n",
        "#50으로 변경해야됨\n",
        "for epoch in range(50):\n",
        "  #추가\n",
        "  cost = 0\n",
        "  for i in range(m):\n",
        "    # 이곳을 채우세요.\n",
        "    cost += (w*x[i] - y[i]) * x[i]\n",
        "\n",
        "  # 이곳을 채우세요.\n",
        "  w = w - alpha * cost / m\n",
        "\n",
        "\n",
        "  print(\"Epoch {0:d}: w = {1}\".format(epoch+1,tensor2list(w)))"
      ],
      "execution_count": 24,
      "outputs": [
        {
          "output_type": "stream",
          "name": "stdout",
          "text": [
            "DATA= [[1. 1.]\n",
            " [2. 2.]\n",
            " [3. 3.]]\n",
            "X= [[1.]\n",
            " [2.]\n",
            " [3.]]\n",
            "Y= [[1.]\n",
            " [2.]\n",
            " [3.]]\n",
            "\n",
            "Init: w = [1.3772271871566772]\n",
            "\n",
            "Epoch 1: w = [1.2011878490447998]\n",
            "Epoch 2: w = [1.1073001623153687]\n",
            "Epoch 3: w = [1.0572267770767212]\n",
            "Epoch 4: w = [1.0305209159851074]\n",
            "Epoch 5: w = [1.01627779006958]\n",
            "Epoch 6: w = [1.0086815357208252]\n",
            "Epoch 7: w = [1.004630208015442]\n",
            "Epoch 8: w = [1.0024694204330444]\n",
            "Epoch 9: w = [1.001317024230957]\n",
            "Epoch 10: w = [1.0007023811340332]\n",
            "Epoch 11: w = [1.0003745555877686]\n",
            "Epoch 12: w = [1.000199794769287]\n",
            "Epoch 13: w = [1.0001065731048584]\n",
            "Epoch 14: w = [1.0000568628311157]\n",
            "Epoch 15: w = [1.000030279159546]\n",
            "Epoch 16: w = [1.0000160932540894]\n",
            "Epoch 17: w = [1.0000085830688477]\n",
            "Epoch 18: w = [1.000004529953003]\n",
            "Epoch 19: w = [1.000002384185791]\n",
            "Epoch 20: w = [1.000001311302185]\n",
            "Epoch 21: w = [1.0000007152557373]\n",
            "Epoch 22: w = [1.0000003576278687]\n",
            "Epoch 23: w = [1.000000238418579]\n",
            "Epoch 24: w = [1.0000001192092896]\n",
            "Epoch 25: w = [1.0]\n",
            "Epoch 26: w = [1.0]\n",
            "Epoch 27: w = [1.0]\n",
            "Epoch 28: w = [1.0]\n",
            "Epoch 29: w = [1.0]\n",
            "Epoch 30: w = [1.0]\n",
            "Epoch 31: w = [1.0]\n",
            "Epoch 32: w = [1.0]\n",
            "Epoch 33: w = [1.0]\n",
            "Epoch 34: w = [1.0]\n",
            "Epoch 35: w = [1.0]\n",
            "Epoch 36: w = [1.0]\n",
            "Epoch 37: w = [1.0]\n",
            "Epoch 38: w = [1.0]\n",
            "Epoch 39: w = [1.0]\n",
            "Epoch 40: w = [1.0]\n",
            "Epoch 41: w = [1.0]\n",
            "Epoch 42: w = [1.0]\n",
            "Epoch 43: w = [1.0]\n",
            "Epoch 44: w = [1.0]\n",
            "Epoch 45: w = [1.0]\n",
            "Epoch 46: w = [1.0]\n",
            "Epoch 47: w = [1.0]\n",
            "Epoch 48: w = [1.0]\n",
            "Epoch 49: w = [1.0]\n",
            "Epoch 50: w = [1.0]\n"
          ]
        }
      ]
    }
  ]
}