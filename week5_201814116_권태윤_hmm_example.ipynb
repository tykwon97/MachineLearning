{
  "nbformat": 4,
  "nbformat_minor": 0,
  "metadata": {
    "colab": {
      "name": "week5_201814116_권태윤_hmm_example.ipynb",
      "provenance": [],
      "collapsed_sections": []
    },
    "kernelspec": {
      "name": "python3",
      "display_name": "Python 3"
    }
  },
  "cells": [
    {
      "cell_type": "markdown",
      "metadata": {
        "id": "YYKwldBwVXIW"
      },
      "source": [
        "<h2>개인 구글 드라이브와 colab 연동 </h2>"
      ]
    },
    {
      "cell_type": "code",
      "metadata": {
        "id": "5o0lh-JLURY7",
        "colab": {
          "base_uri": "https://localhost:8080/"
        },
        "outputId": "aeefb535-5bd7-4f9c-8615-7d4ff9aca295"
      },
      "source": [
        "from google.colab import drive\n",
        "drive.mount(\"/gdrive\", force_remount=True)"
      ],
      "execution_count": 3,
      "outputs": [
        {
          "output_type": "stream",
          "name": "stdout",
          "text": [
            "Mounted at /gdrive\n"
          ]
        }
      ]
    },
    {
      "cell_type": "markdown",
      "metadata": {
        "id": "junjuA4pVM5n"
      },
      "source": [
        "<h2>라이브러리 설치 </h2>"
      ]
    },
    {
      "cell_type": "code",
      "metadata": {
        "id": "WwzrDnJYmV3Z",
        "colab": {
          "base_uri": "https://localhost:8080/"
        },
        "outputId": "6ef88dbc-a483-479b-986e-820561d556e3"
      },
      "source": [
        "!pip install hmmlearn"
      ],
      "execution_count": 4,
      "outputs": [
        {
          "output_type": "stream",
          "name": "stdout",
          "text": [
            "Collecting hmmlearn\n",
            "  Downloading hmmlearn-0.2.6-cp37-cp37m-manylinux_2_5_x86_64.manylinux1_x86_64.whl (374 kB)\n",
            "\u001b[?25l\r\u001b[K     |▉                               | 10 kB 21.0 MB/s eta 0:00:01\r\u001b[K     |█▊                              | 20 kB 27.5 MB/s eta 0:00:01\r\u001b[K     |██▋                             | 30 kB 21.4 MB/s eta 0:00:01\r\u001b[K     |███▌                            | 40 kB 17.6 MB/s eta 0:00:01\r\u001b[K     |████▍                           | 51 kB 8.2 MB/s eta 0:00:01\r\u001b[K     |█████▎                          | 61 kB 7.9 MB/s eta 0:00:01\r\u001b[K     |██████▏                         | 71 kB 8.2 MB/s eta 0:00:01\r\u001b[K     |███████                         | 81 kB 9.2 MB/s eta 0:00:01\r\u001b[K     |███████▉                        | 92 kB 9.6 MB/s eta 0:00:01\r\u001b[K     |████████▊                       | 102 kB 7.6 MB/s eta 0:00:01\r\u001b[K     |█████████▋                      | 112 kB 7.6 MB/s eta 0:00:01\r\u001b[K     |██████████▌                     | 122 kB 7.6 MB/s eta 0:00:01\r\u001b[K     |███████████▍                    | 133 kB 7.6 MB/s eta 0:00:01\r\u001b[K     |████████████▎                   | 143 kB 7.6 MB/s eta 0:00:01\r\u001b[K     |█████████████▏                  | 153 kB 7.6 MB/s eta 0:00:01\r\u001b[K     |██████████████                  | 163 kB 7.6 MB/s eta 0:00:01\r\u001b[K     |██████████████▉                 | 174 kB 7.6 MB/s eta 0:00:01\r\u001b[K     |███████████████▊                | 184 kB 7.6 MB/s eta 0:00:01\r\u001b[K     |████████████████▋               | 194 kB 7.6 MB/s eta 0:00:01\r\u001b[K     |█████████████████▌              | 204 kB 7.6 MB/s eta 0:00:01\r\u001b[K     |██████████████████▍             | 215 kB 7.6 MB/s eta 0:00:01\r\u001b[K     |███████████████████▎            | 225 kB 7.6 MB/s eta 0:00:01\r\u001b[K     |████████████████████            | 235 kB 7.6 MB/s eta 0:00:01\r\u001b[K     |█████████████████████           | 245 kB 7.6 MB/s eta 0:00:01\r\u001b[K     |█████████████████████▉          | 256 kB 7.6 MB/s eta 0:00:01\r\u001b[K     |██████████████████████▊         | 266 kB 7.6 MB/s eta 0:00:01\r\u001b[K     |███████████████████████▋        | 276 kB 7.6 MB/s eta 0:00:01\r\u001b[K     |████████████████████████▌       | 286 kB 7.6 MB/s eta 0:00:01\r\u001b[K     |█████████████████████████▍      | 296 kB 7.6 MB/s eta 0:00:01\r\u001b[K     |██████████████████████████▎     | 307 kB 7.6 MB/s eta 0:00:01\r\u001b[K     |███████████████████████████     | 317 kB 7.6 MB/s eta 0:00:01\r\u001b[K     |████████████████████████████    | 327 kB 7.6 MB/s eta 0:00:01\r\u001b[K     |████████████████████████████▉   | 337 kB 7.6 MB/s eta 0:00:01\r\u001b[K     |█████████████████████████████▊  | 348 kB 7.6 MB/s eta 0:00:01\r\u001b[K     |██████████████████████████████▋ | 358 kB 7.6 MB/s eta 0:00:01\r\u001b[K     |███████████████████████████████▌| 368 kB 7.6 MB/s eta 0:00:01\r\u001b[K     |████████████████████████████████| 374 kB 7.6 MB/s \n",
            "\u001b[?25hRequirement already satisfied: scikit-learn>=0.16 in /usr/local/lib/python3.7/dist-packages (from hmmlearn) (0.22.2.post1)\n",
            "Requirement already satisfied: numpy>=1.10 in /usr/local/lib/python3.7/dist-packages (from hmmlearn) (1.19.5)\n",
            "Requirement already satisfied: scipy>=0.19 in /usr/local/lib/python3.7/dist-packages (from hmmlearn) (1.4.1)\n",
            "Requirement already satisfied: joblib>=0.11 in /usr/local/lib/python3.7/dist-packages (from scikit-learn>=0.16->hmmlearn) (1.0.1)\n",
            "Installing collected packages: hmmlearn\n",
            "Successfully installed hmmlearn-0.2.6\n"
          ]
        }
      ]
    },
    {
      "cell_type": "code",
      "metadata": {
        "colab": {
          "base_uri": "https://localhost:8080/"
        },
        "id": "5IylOoM6AUzz",
        "outputId": "d95612ae-cdc7-45a4-b46f-5e6a31ec5f05"
      },
      "source": [
        "import numpy as np\n",
        "from hmmlearn import hmm\n",
        "\n",
        "states = [\"Rainy\", \"Sunny\"]\n",
        "n_states = len(states)\n",
        "\n",
        "observations = [\"walk\", \"shop\", \"clean\"]\n",
        "n_observations = len(observations)\n",
        "\n",
        "# 시작 확률\n",
        "start_probability = np.array([0.6, 0.4])\n",
        "\n",
        "# 전이 확률\n",
        "transition_probability = np.array([\n",
        "  [0.7, 0.3],\n",
        "  [0.4, 0.6]\n",
        "])\n",
        "\n",
        "# 관측 확률\n",
        "emission_probability = np.array([\n",
        "  [0.1, 0.4, 0.5],\n",
        "  [0.6, 0.3, 0.1]\n",
        "])\n",
        "\n",
        "# 모델 만들기\n",
        "model = hmm.MultinomialHMM(n_components=n_states)\n",
        "\n",
        "# 여기를 채우세요.\n",
        "model.startprob_ = start_probability\n",
        "model.transmat_ = transition_probability\n",
        "model.emissionprob_ = emission_probability\n",
        "\n",
        "# 관측 입력\n",
        "input = [0, 0, 2, 1]\n",
        "\n",
        "# HMM 모델 호출\n",
        "# 여기를 채우세요.\n",
        "# 2차원 벡터형태로 만들어 줌\n",
        "hmm_input = np.atleast_2d(input).T\n",
        "logprob, sequence = model.decode(hmm_input)\n",
        "#곱하기 계산을 더하기 계산으로 하기 위해 log 계산한다.\n",
        "\n",
        "print(\"Input :\", \", \".join(map(lambda x: observations[x], input)))\n",
        "print(\"Output:\", \", \".join(map(lambda x: states[x], sequence)))\n",
        "print(\"Prob. :\", logprob)"
      ],
      "execution_count": 9,
      "outputs": [
        {
          "output_type": "stream",
          "name": "stdout",
          "text": [
            "Input : walk, walk, clean, shop\n",
            "Output: Sunny, Sunny, Rainy, Rainy\n",
            "Prob. : -5.331171191419115\n"
          ]
        }
      ]
    },
    {
      "cell_type": "code",
      "metadata": {
        "id": "0VJD-PF6dYfb",
        "colab": {
          "base_uri": "https://localhost:8080/"
        },
        "pycharm": {
          "name": "#%%\n"
        },
        "outputId": "1a0d672e-8a74-4f7a-869c-4575f02ee1c3"
      },
      "source": [
        "'''\n",
        "import numpy as np\n",
        "from hmmlearn import hmm\n",
        "\n",
        "states = [\"Rainy\", \"Cloudy\", \"Sunny\"]\n",
        "n_states = len(states)\n",
        "\n",
        "observations = [\"Boots\", \"Shoes\"]\n",
        "n_observations = len(observations)\n",
        "\n",
        "# 시작 확률\n",
        "start_probability = np.array([0.2, 0.5, 0.3])\n",
        "\n",
        "# 전이 확률\n",
        "transition_probability = np.array([\n",
        "  [0.4, 0.3, 0.3],\n",
        "  [0.2, 0.6, 0.2],\n",
        "  [0.1, 0.1, 0.8]\n",
        "])\n",
        "\n",
        "# 관측 확률\n",
        "emission_probability = np.array([\n",
        "  [0.8, 0.2],\n",
        "  [0.5, 0.5],\n",
        "  [0.1, 0.9]\n",
        "])\n",
        "\n",
        "# 모델 만들기\n",
        "model = hmm.MultinomialHMM(n_components=n_states)\n",
        "\n",
        "# 여기를 채우세요.\n",
        "model.startprob_ = start_probability\n",
        "model.transmat_ = transition_probability\n",
        "model.emissionprob_ = emission_probability\n",
        "\n",
        "# 관측 입력\n",
        "input = [0, 0, 1,1]\n",
        "\n",
        "# HMM 모델 호출\n",
        "# 여기를 채우세요.\n",
        "hmm_input = np.atleast_2d(input).T\n",
        "logprob, sequence = model.decode(hmm_input)\n",
        "\n",
        "\n",
        "print(\"Input :\", \", \".join(map(lambda x: observations[x], input)))\n",
        "print(\"Output:\", \", \".join(map(lambda x: states[x], sequence)))\n",
        "print(\"Prob. :\", logprob)\n",
        "'''"
      ],
      "execution_count": 7,
      "outputs": [
        {
          "output_type": "stream",
          "name": "stdout",
          "text": [
            "Input : Boots, Boots, Shoes, Shoes\n",
            "Output: Rainy, Rainy, Sunny, Sunny\n",
            "Prob. : -4.609853133892472\n"
          ]
        }
      ]
    }
  ]
}