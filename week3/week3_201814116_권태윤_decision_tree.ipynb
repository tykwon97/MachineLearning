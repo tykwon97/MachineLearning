{
  "nbformat": 4,
  "nbformat_minor": 0,
  "metadata": {
    "colab": {
      "name": "week3_201814116_권태윤_decision_tree.ipynb",
      "provenance": [],
      "collapsed_sections": []
    },
    "kernelspec": {
      "name": "python3",
      "display_name": "Python 3"
    },
    "language_info": {
      "name": "python"
    }
  },
  "cells": [
    {
      "cell_type": "code",
      "metadata": {
        "id": "Sqk7wGdTOHPD",
        "colab": {
          "base_uri": "https://localhost:8080/"
        },
        "outputId": "3a3fc4ba-03b8-4234-b3f0-7a9b6d6698d8"
      },
      "source": [
        "from google.colab import drive\n",
        "drive.mount(\"/gdrive\", force_remount=True)"
      ],
      "execution_count": 1,
      "outputs": [
        {
          "output_type": "stream",
          "name": "stdout",
          "text": [
            "Mounted at /gdrive\n"
          ]
        }
      ]
    },
    {
      "cell_type": "code",
      "metadata": {
        "id": "YG51p4shPlaG",
        "colab": {
          "base_uri": "https://localhost:8080/"
        },
        "outputId": "0cb398bd-18b4-4498-eb84-24f956d51743"
      },
      "source": [
        "import pandas as pd #DataFrame을 손쉽게 다루게 해주는 라이브러리\n",
        "from sklearn.preprocessing import LabelEncoder\n",
        "from sklearn import tree\n",
        "import graphviz \n",
        "\n",
        "# 데이터 경로\n",
        "#file_path = \"/gdrive/MyDrive/colab/dt/PlayTennis.csv\"\n",
        "file_path = \"/gdrive/MyDrive/colab/dt/PlayTennis_extraData.csv\"\n",
        "# 데이터 경로로부터 파일을 읽음 (pandas 라이브러리 사용)\n",
        "datas = pd.read_csv(file_path)\n",
        "\n",
        "# 데이터 출력 (데이터 형태 확인)\n",
        "print(datas)"
      ],
      "execution_count": 2,
      "outputs": [
        {
          "output_type": "stream",
          "name": "stdout",
          "text": [
            "     outlook  temp humidity  windy date      time play\n",
            "0      sunny   hot     high  False  Thu  13-10-10   no\n",
            "1      sunny   hot     high   True  Fri  13-45-05   no\n",
            "2   overcast   hot     high  False  Sat  18-30-15  yes\n",
            "3      rainy  mild     high  False  Sun  17-15-45  yes\n",
            "4      rainy  cool   normal  False  Mon  19-00-00  yes\n",
            "5      rainy  cool   normal   True  Tue  14-25-15   no\n",
            "6   overcast  cool   normal   True  Wed  16-50-50  yes\n",
            "7      sunny  mild     high  False  Thu  15-10-00   no\n",
            "8      sunny  cool   normal  False  Fri  16-10-50  yes\n",
            "9      rainy  mild   normal  False  Sat  20-55-15  yes\n",
            "10     sunny  mild   normal   True  Sun  21-30-15  yes\n",
            "11  overcast  mild     high   True  Mon  17-50-50  yes\n",
            "12  overcast   hot   normal  False  Tue  16-30-30  yes\n",
            "13     rainy  mild     high   True  Wed  22-10-05   no\n"
          ]
        }
      ]
    },
    {
      "cell_type": "markdown",
      "metadata": {
        "id": "pE1Gb_pHgkSX"
      },
      "source": [
        "테니스 경기는 야외 경기라는 특성이 있기 때문에 더위로 부터 안전한 16시 이후에 경기가 가능하다.\n",
        "\n",
        "또한, 주말에는 평일보다 관중 입장이 많아 최대한 경기를 개최한다."
      ]
    },
    {
      "cell_type": "code",
      "metadata": {
        "id": "vfCXzSEBANmV"
      },
      "source": [
        "#time 값 hour값을 대표값으로 바꾸기\n",
        "\n",
        "# Pandas apply 메소드 기반 접근방법 \n",
        "# 연산속도 엄청빠름\n",
        "\n",
        "def cleaning(x) :\n",
        "  if str(x).find(\"-\") != -1 :\n",
        "    return str(x).split(\"-\")[0]\n",
        "  return str(x)\n",
        "\n",
        "def summer(x) :\n",
        "    if (float(x) >= 16):  #16시 이후는 더위로부터 안전하다.\n",
        "        return(0)\n",
        "    else :\n",
        "        return(1)\n",
        "    return str(x)\n",
        "\n",
        "# apply메소드의 lambda 함수는 공백까지 지우기 위해 사용한 코드입니다.\n",
        "\n",
        "# time에서 hour값 빼고 나머지 지우기\n",
        "datas['time']=datas['time'].fillna(\"NONE\") #결측값 특정 값으로 채우기\n",
        "datas['time']=datas['time'].apply(cleaning).apply(lambda x:x.replace(\" \",\"\"))\n",
        "datas['time']=datas['time'].apply(summer)"
      ],
      "execution_count": 3,
      "outputs": []
    },
    {
      "cell_type": "code",
      "metadata": {
        "id": "5IFgzHJhFsSO"
      },
      "source": [
        "def cleaning(x) :\n",
        "  if str(x).find(\"Sun\") != -1 or str(x).find(\"Sat\") != -1 :\n",
        "      #주말에는 관중이 평일보다 많아 최대한 \n",
        "    return \"weekend\"\n",
        "  else :\n",
        "      return \"weekday\"\n",
        "\n",
        "  return str(x)\n",
        "\n",
        "# apply메소드의 lambda 함수는 공백까지 지우기 위해 사용한 코드입니다.\n",
        "\n",
        "# 주말과 평일 나누기\n",
        "datas['date']=datas['date'].fillna(\"NONE\") #결측값 특정 값으로 채우기\n",
        "datas['date']=datas['date'].apply(cleaning).apply(lambda x:x.replace(\" \",\"\"))"
      ],
      "execution_count": 4,
      "outputs": []
    },
    {
      "cell_type": "code",
      "metadata": {
        "colab": {
          "base_uri": "https://localhost:8080/"
        },
        "id": "e4gMCDQLGjsN",
        "outputId": "eb2d0e66-f153-4038-aaa1-0f9ac51a5e00"
      },
      "source": [
        "print(datas)"
      ],
      "execution_count": 5,
      "outputs": [
        {
          "output_type": "stream",
          "name": "stdout",
          "text": [
            "     outlook  temp humidity  windy     date  time play\n",
            "0      sunny   hot     high  False  weekday     1   no\n",
            "1      sunny   hot     high   True  weekday     1   no\n",
            "2   overcast   hot     high  False  weekend     0  yes\n",
            "3      rainy  mild     high  False  weekend     0  yes\n",
            "4      rainy  cool   normal  False  weekday     0  yes\n",
            "5      rainy  cool   normal   True  weekday     1   no\n",
            "6   overcast  cool   normal   True  weekday     0  yes\n",
            "7      sunny  mild     high  False  weekday     1   no\n",
            "8      sunny  cool   normal  False  weekday     0  yes\n",
            "9      rainy  mild   normal  False  weekend     0  yes\n",
            "10     sunny  mild   normal   True  weekend     0  yes\n",
            "11  overcast  mild     high   True  weekday     0  yes\n",
            "12  overcast   hot   normal  False  weekday     0  yes\n",
            "13     rainy  mild     high   True  weekday     0   no\n"
          ]
        }
      ]
    },
    {
      "cell_type": "code",
      "metadata": {
        "colab": {
          "base_uri": "https://localhost:8080/"
        },
        "id": "9xu43hd3YBEE",
        "outputId": "19ebe242-ade7-44a8-e1cc-a69f8513200b"
      },
      "source": [
        "#데이터 변환(문자->숫자) 숫자가 더 빠름\n",
        "# 범주형 데이터를 수치형 데이터로 자동 변환해주는 라이브러리\n",
        "label_encoder = LabelEncoder()\n",
        "\n",
        "# 정답 클래스 이름 (yes, no)\n",
        "target_names = label_encoder.fit(datas['play']).classes_ #.classes_ 내용확인\n",
        "print(\"target_names : {}\".format(target_names))\n",
        "\n",
        "datas['outlook'] = label_encoder.fit_transform(datas['outlook'])\n",
        "datas['temp'] = label_encoder.fit_transform(datas['temp'])\n",
        "datas['humidity'] = label_encoder.fit_transform(datas['humidity'])\n",
        "datas['windy'] = label_encoder.fit_transform(datas['windy'])\n",
        "\n",
        "#주말이냐 아니냐\n",
        "datas['date'] = label_encoder.fit_transform(datas['date'])\n",
        "\n",
        "#햇빛이 쨍한 16시 이후 인가 아닌가\n",
        "datas['time'] = label_encoder.fit_transform(datas['time'])\n",
        "\n",
        "datas['play'] = label_encoder.fit_transform(datas['play'])\n",
        "\n",
        "# 데이터 출력 (데이터 포맷 변환 후 결과 확인)\n",
        "print(datas)"
      ],
      "execution_count": 6,
      "outputs": [
        {
          "output_type": "stream",
          "name": "stdout",
          "text": [
            "target_names : ['no' 'yes']\n",
            "    outlook  temp  humidity  windy  date  time  play\n",
            "0         2     1         0      0     0     1     0\n",
            "1         2     1         0      1     0     1     0\n",
            "2         0     1         0      0     1     0     1\n",
            "3         1     2         0      0     1     0     1\n",
            "4         1     0         1      0     0     0     1\n",
            "5         1     0         1      1     0     1     0\n",
            "6         0     0         1      1     0     0     1\n",
            "7         2     2         0      0     0     1     0\n",
            "8         2     0         1      0     0     0     1\n",
            "9         1     2         1      0     1     0     1\n",
            "10        2     2         1      1     1     0     1\n",
            "11        0     2         0      1     0     0     1\n",
            "12        0     1         1      0     0     0     1\n",
            "13        1     2         0      1     0     0     0\n"
          ]
        }
      ]
    },
    {
      "cell_type": "code",
      "metadata": {
        "id": "-jtuUVwyQCZc",
        "colab": {
          "base_uri": "https://localhost:8080/"
        },
        "outputId": "9f6ca4c4-b865-4bfe-95da-756f784d22bb"
      },
      "source": [
        "# 입력 데이터와 정답 데이터로 분리\n",
        "x_data, y_data = datas.drop(['play'], axis=1), datas['play']\n",
        "\n",
        "# 분리 결과 확인\n",
        "print(x_data)\n",
        "print()\n",
        "print(y_data)"
      ],
      "execution_count": 7,
      "outputs": [
        {
          "output_type": "stream",
          "name": "stdout",
          "text": [
            "    outlook  temp  humidity  windy  date  time\n",
            "0         2     1         0      0     0     1\n",
            "1         2     1         0      1     0     1\n",
            "2         0     1         0      0     1     0\n",
            "3         1     2         0      0     1     0\n",
            "4         1     0         1      0     0     0\n",
            "5         1     0         1      1     0     1\n",
            "6         0     0         1      1     0     0\n",
            "7         2     2         0      0     0     1\n",
            "8         2     0         1      0     0     0\n",
            "9         1     2         1      0     1     0\n",
            "10        2     2         1      1     1     0\n",
            "11        0     2         0      1     0     0\n",
            "12        0     1         1      0     0     0\n",
            "13        1     2         0      1     0     0\n",
            "\n",
            "0     0\n",
            "1     0\n",
            "2     1\n",
            "3     1\n",
            "4     1\n",
            "5     0\n",
            "6     1\n",
            "7     0\n",
            "8     1\n",
            "9     1\n",
            "10    1\n",
            "11    1\n",
            "12    1\n",
            "13    0\n",
            "Name: play, dtype: int64\n"
          ]
        }
      ]
    },
    {
      "cell_type": "code",
      "metadata": {
        "id": "K6hFTzgbYEtU"
      },
      "source": [
        "# Decision tree 모델 학습 ()\n",
        "decision_tree = tree.DecisionTreeClassifier(criterion = 'entropy')\n",
        "train_result = decision_tree.fit(x_data, y_data)"
      ],
      "execution_count": 8,
      "outputs": []
    },
    {
      "cell_type": "code",
      "metadata": {
        "colab": {
          "base_uri": "https://localhost:8080/",
          "height": 756
        },
        "id": "RrLrZwJWYKnb",
        "outputId": "d6a49e97-361e-4fae-efa1-6dadffa5a762"
      },
      "source": [
        "# 학습 결과 확인 (graphviz 라이브러리 사용)\n",
        "graph = graphviz.Source(tree.export_graphviz(train_result, out_file=None,\n",
        "                                             feature_names=x_data.columns,\n",
        "                                             class_names=target_names)) \n",
        "graph"
      ],
      "execution_count": 9,
      "outputs": [
        {
          "output_type": "execute_result",
          "data": {
            "text/plain": [
              "<graphviz.files.Source at 0x7fedf6d2db90>"
            ],
            "image/svg+xml": "<?xml version=\"1.0\" encoding=\"UTF-8\" standalone=\"no\"?>\n<!DOCTYPE svg PUBLIC \"-//W3C//DTD SVG 1.1//EN\"\n \"http://www.w3.org/Graphics/SVG/1.1/DTD/svg11.dtd\">\n<!-- Generated by graphviz version 2.40.1 (20161225.0304)\n -->\n<!-- Title: Tree Pages: 1 -->\n<svg width=\"344pt\" height=\"552pt\"\n viewBox=\"0.00 0.00 344.00 552.00\" xmlns=\"http://www.w3.org/2000/svg\" xmlns:xlink=\"http://www.w3.org/1999/xlink\">\n<g id=\"graph0\" class=\"graph\" transform=\"scale(1 1) rotate(0) translate(4 548)\">\n<title>Tree</title>\n<polygon fill=\"#ffffff\" stroke=\"transparent\" points=\"-4,4 -4,-548 340,-548 340,4 -4,4\"/>\n<!-- 0 -->\n<g id=\"node1\" class=\"node\">\n<title>0</title>\n<polygon fill=\"none\" stroke=\"#000000\" points=\"279,-544 176,-544 176,-461 279,-461 279,-544\"/>\n<text text-anchor=\"middle\" x=\"227.5\" y=\"-528.8\" font-family=\"Times,serif\" font-size=\"14.00\" fill=\"#000000\">time &lt;= 0.5</text>\n<text text-anchor=\"middle\" x=\"227.5\" y=\"-513.8\" font-family=\"Times,serif\" font-size=\"14.00\" fill=\"#000000\">entropy = 0.94</text>\n<text text-anchor=\"middle\" x=\"227.5\" y=\"-498.8\" font-family=\"Times,serif\" font-size=\"14.00\" fill=\"#000000\">samples = 14</text>\n<text text-anchor=\"middle\" x=\"227.5\" y=\"-483.8\" font-family=\"Times,serif\" font-size=\"14.00\" fill=\"#000000\">value = [5, 9]</text>\n<text text-anchor=\"middle\" x=\"227.5\" y=\"-468.8\" font-family=\"Times,serif\" font-size=\"14.00\" fill=\"#000000\">class = yes</text>\n</g>\n<!-- 1 -->\n<g id=\"node2\" class=\"node\">\n<title>1</title>\n<polygon fill=\"none\" stroke=\"#000000\" points=\"222.5,-425 110.5,-425 110.5,-342 222.5,-342 222.5,-425\"/>\n<text text-anchor=\"middle\" x=\"166.5\" y=\"-409.8\" font-family=\"Times,serif\" font-size=\"14.00\" fill=\"#000000\">humidity &lt;= 0.5</text>\n<text text-anchor=\"middle\" x=\"166.5\" y=\"-394.8\" font-family=\"Times,serif\" font-size=\"14.00\" fill=\"#000000\">entropy = 0.469</text>\n<text text-anchor=\"middle\" x=\"166.5\" y=\"-379.8\" font-family=\"Times,serif\" font-size=\"14.00\" fill=\"#000000\">samples = 10</text>\n<text text-anchor=\"middle\" x=\"166.5\" y=\"-364.8\" font-family=\"Times,serif\" font-size=\"14.00\" fill=\"#000000\">value = [1, 9]</text>\n<text text-anchor=\"middle\" x=\"166.5\" y=\"-349.8\" font-family=\"Times,serif\" font-size=\"14.00\" fill=\"#000000\">class = yes</text>\n</g>\n<!-- 0&#45;&gt;1 -->\n<g id=\"edge1\" class=\"edge\">\n<title>0&#45;&gt;1</title>\n<path fill=\"none\" stroke=\"#000000\" d=\"M206.1652,-460.8796C201.7793,-452.3236 197.1147,-443.2238 192.583,-434.3833\"/>\n<polygon fill=\"#000000\" stroke=\"#000000\" points=\"195.6022,-432.6004 187.9259,-425.2981 189.373,-435.7936 195.6022,-432.6004\"/>\n<text text-anchor=\"middle\" x=\"180.2586\" y=\"-445.3933\" font-family=\"Times,serif\" font-size=\"14.00\" fill=\"#000000\">True</text>\n</g>\n<!-- 8 -->\n<g id=\"node9\" class=\"node\">\n<title>8</title>\n<polygon fill=\"none\" stroke=\"#000000\" points=\"336,-417.5 241,-417.5 241,-349.5 336,-349.5 336,-417.5\"/>\n<text text-anchor=\"middle\" x=\"288.5\" y=\"-402.3\" font-family=\"Times,serif\" font-size=\"14.00\" fill=\"#000000\">entropy = 0.0</text>\n<text text-anchor=\"middle\" x=\"288.5\" y=\"-387.3\" font-family=\"Times,serif\" font-size=\"14.00\" fill=\"#000000\">samples = 4</text>\n<text text-anchor=\"middle\" x=\"288.5\" y=\"-372.3\" font-family=\"Times,serif\" font-size=\"14.00\" fill=\"#000000\">value = [4, 0]</text>\n<text text-anchor=\"middle\" x=\"288.5\" y=\"-357.3\" font-family=\"Times,serif\" font-size=\"14.00\" fill=\"#000000\">class = no</text>\n</g>\n<!-- 0&#45;&gt;8 -->\n<g id=\"edge8\" class=\"edge\">\n<title>0&#45;&gt;8</title>\n<path fill=\"none\" stroke=\"#000000\" d=\"M248.8348,-460.8796C254.4715,-449.8835 260.5685,-437.9893 266.2522,-426.9015\"/>\n<polygon fill=\"#000000\" stroke=\"#000000\" points=\"269.4629,-428.3105 270.91,-417.8149 263.2337,-425.1173 269.4629,-428.3105\"/>\n<text text-anchor=\"middle\" x=\"278.5773\" y=\"-437.9101\" font-family=\"Times,serif\" font-size=\"14.00\" fill=\"#000000\">False</text>\n</g>\n<!-- 2 -->\n<g id=\"node3\" class=\"node\">\n<title>2</title>\n<polygon fill=\"none\" stroke=\"#000000\" points=\"161.5,-306 51.5,-306 51.5,-223 161.5,-223 161.5,-306\"/>\n<text text-anchor=\"middle\" x=\"106.5\" y=\"-290.8\" font-family=\"Times,serif\" font-size=\"14.00\" fill=\"#000000\">windy &lt;= 0.5</text>\n<text text-anchor=\"middle\" x=\"106.5\" y=\"-275.8\" font-family=\"Times,serif\" font-size=\"14.00\" fill=\"#000000\">entropy = 0.811</text>\n<text text-anchor=\"middle\" x=\"106.5\" y=\"-260.8\" font-family=\"Times,serif\" font-size=\"14.00\" fill=\"#000000\">samples = 4</text>\n<text text-anchor=\"middle\" x=\"106.5\" y=\"-245.8\" font-family=\"Times,serif\" font-size=\"14.00\" fill=\"#000000\">value = [1, 3]</text>\n<text text-anchor=\"middle\" x=\"106.5\" y=\"-230.8\" font-family=\"Times,serif\" font-size=\"14.00\" fill=\"#000000\">class = yes</text>\n</g>\n<!-- 1&#45;&gt;2 -->\n<g id=\"edge2\" class=\"edge\">\n<title>1&#45;&gt;2</title>\n<path fill=\"none\" stroke=\"#000000\" d=\"M145.5149,-341.8796C141.201,-333.3236 136.6128,-324.2238 132.1554,-315.3833\"/>\n<polygon fill=\"#000000\" stroke=\"#000000\" points=\"135.2021,-313.6515 127.5747,-306.2981 128.9516,-316.8031 135.2021,-313.6515\"/>\n</g>\n<!-- 7 -->\n<g id=\"node8\" class=\"node\">\n<title>7</title>\n<polygon fill=\"none\" stroke=\"#000000\" points=\"275,-298.5 180,-298.5 180,-230.5 275,-230.5 275,-298.5\"/>\n<text text-anchor=\"middle\" x=\"227.5\" y=\"-283.3\" font-family=\"Times,serif\" font-size=\"14.00\" fill=\"#000000\">entropy = 0.0</text>\n<text text-anchor=\"middle\" x=\"227.5\" y=\"-268.3\" font-family=\"Times,serif\" font-size=\"14.00\" fill=\"#000000\">samples = 6</text>\n<text text-anchor=\"middle\" x=\"227.5\" y=\"-253.3\" font-family=\"Times,serif\" font-size=\"14.00\" fill=\"#000000\">value = [0, 6]</text>\n<text text-anchor=\"middle\" x=\"227.5\" y=\"-238.3\" font-family=\"Times,serif\" font-size=\"14.00\" fill=\"#000000\">class = yes</text>\n</g>\n<!-- 1&#45;&gt;7 -->\n<g id=\"edge7\" class=\"edge\">\n<title>1&#45;&gt;7</title>\n<path fill=\"none\" stroke=\"#000000\" d=\"M187.8348,-341.8796C193.4715,-330.8835 199.5685,-318.9893 205.2522,-307.9015\"/>\n<polygon fill=\"#000000\" stroke=\"#000000\" points=\"208.4629,-309.3105 209.91,-298.8149 202.2337,-306.1173 208.4629,-309.3105\"/>\n</g>\n<!-- 3 -->\n<g id=\"node4\" class=\"node\">\n<title>3</title>\n<polygon fill=\"none\" stroke=\"#000000\" points=\"95,-179.5 0,-179.5 0,-111.5 95,-111.5 95,-179.5\"/>\n<text text-anchor=\"middle\" x=\"47.5\" y=\"-164.3\" font-family=\"Times,serif\" font-size=\"14.00\" fill=\"#000000\">entropy = 0.0</text>\n<text text-anchor=\"middle\" x=\"47.5\" y=\"-149.3\" font-family=\"Times,serif\" font-size=\"14.00\" fill=\"#000000\">samples = 2</text>\n<text text-anchor=\"middle\" x=\"47.5\" y=\"-134.3\" font-family=\"Times,serif\" font-size=\"14.00\" fill=\"#000000\">value = [0, 2]</text>\n<text text-anchor=\"middle\" x=\"47.5\" y=\"-119.3\" font-family=\"Times,serif\" font-size=\"14.00\" fill=\"#000000\">class = yes</text>\n</g>\n<!-- 2&#45;&gt;3 -->\n<g id=\"edge3\" class=\"edge\">\n<title>2&#45;&gt;3</title>\n<path fill=\"none\" stroke=\"#000000\" d=\"M85.8647,-222.8796C80.4128,-211.8835 74.5157,-199.9893 69.0184,-188.9015\"/>\n<polygon fill=\"#000000\" stroke=\"#000000\" points=\"72.0911,-187.2195 64.5133,-179.8149 65.8196,-190.3289 72.0911,-187.2195\"/>\n</g>\n<!-- 4 -->\n<g id=\"node5\" class=\"node\">\n<title>4</title>\n<polygon fill=\"none\" stroke=\"#000000\" points=\"217.5,-187 113.5,-187 113.5,-104 217.5,-104 217.5,-187\"/>\n<text text-anchor=\"middle\" x=\"165.5\" y=\"-171.8\" font-family=\"Times,serif\" font-size=\"14.00\" fill=\"#000000\">outlook &lt;= 0.5</text>\n<text text-anchor=\"middle\" x=\"165.5\" y=\"-156.8\" font-family=\"Times,serif\" font-size=\"14.00\" fill=\"#000000\">entropy = 1.0</text>\n<text text-anchor=\"middle\" x=\"165.5\" y=\"-141.8\" font-family=\"Times,serif\" font-size=\"14.00\" fill=\"#000000\">samples = 2</text>\n<text text-anchor=\"middle\" x=\"165.5\" y=\"-126.8\" font-family=\"Times,serif\" font-size=\"14.00\" fill=\"#000000\">value = [1, 1]</text>\n<text text-anchor=\"middle\" x=\"165.5\" y=\"-111.8\" font-family=\"Times,serif\" font-size=\"14.00\" fill=\"#000000\">class = no</text>\n</g>\n<!-- 2&#45;&gt;4 -->\n<g id=\"edge4\" class=\"edge\">\n<title>2&#45;&gt;4</title>\n<path fill=\"none\" stroke=\"#000000\" d=\"M127.1353,-222.8796C131.3774,-214.3236 135.889,-205.2238 140.2721,-196.3833\"/>\n<polygon fill=\"#000000\" stroke=\"#000000\" points=\"143.4703,-197.8121 144.7766,-187.2981 137.1988,-194.7026 143.4703,-197.8121\"/>\n</g>\n<!-- 5 -->\n<g id=\"node6\" class=\"node\">\n<title>5</title>\n<polygon fill=\"none\" stroke=\"#000000\" points=\"156,-68 61,-68 61,0 156,0 156,-68\"/>\n<text text-anchor=\"middle\" x=\"108.5\" y=\"-52.8\" font-family=\"Times,serif\" font-size=\"14.00\" fill=\"#000000\">entropy = 0.0</text>\n<text text-anchor=\"middle\" x=\"108.5\" y=\"-37.8\" font-family=\"Times,serif\" font-size=\"14.00\" fill=\"#000000\">samples = 1</text>\n<text text-anchor=\"middle\" x=\"108.5\" y=\"-22.8\" font-family=\"Times,serif\" font-size=\"14.00\" fill=\"#000000\">value = [0, 1]</text>\n<text text-anchor=\"middle\" x=\"108.5\" y=\"-7.8\" font-family=\"Times,serif\" font-size=\"14.00\" fill=\"#000000\">class = yes</text>\n</g>\n<!-- 4&#45;&gt;5 -->\n<g id=\"edge5\" class=\"edge\">\n<title>4&#45;&gt;5</title>\n<path fill=\"none\" stroke=\"#000000\" d=\"M144.2753,-103.9815C139.8119,-95.2504 135.0933,-86.0202 130.5987,-77.2281\"/>\n<polygon fill=\"#000000\" stroke=\"#000000\" points=\"133.6842,-75.5745 126.016,-68.2637 127.4514,-78.7608 133.6842,-75.5745\"/>\n</g>\n<!-- 6 -->\n<g id=\"node7\" class=\"node\">\n<title>6</title>\n<polygon fill=\"none\" stroke=\"#000000\" points=\"269,-68 174,-68 174,0 269,0 269,-68\"/>\n<text text-anchor=\"middle\" x=\"221.5\" y=\"-52.8\" font-family=\"Times,serif\" font-size=\"14.00\" fill=\"#000000\">entropy = 0.0</text>\n<text text-anchor=\"middle\" x=\"221.5\" y=\"-37.8\" font-family=\"Times,serif\" font-size=\"14.00\" fill=\"#000000\">samples = 1</text>\n<text text-anchor=\"middle\" x=\"221.5\" y=\"-22.8\" font-family=\"Times,serif\" font-size=\"14.00\" fill=\"#000000\">value = [1, 0]</text>\n<text text-anchor=\"middle\" x=\"221.5\" y=\"-7.8\" font-family=\"Times,serif\" font-size=\"14.00\" fill=\"#000000\">class = no</text>\n</g>\n<!-- 4&#45;&gt;6 -->\n<g id=\"edge6\" class=\"edge\">\n<title>4&#45;&gt;6</title>\n<path fill=\"none\" stroke=\"#000000\" d=\"M186.3523,-103.9815C190.7375,-95.2504 195.3733,-86.0202 199.789,-77.2281\"/>\n<polygon fill=\"#000000\" stroke=\"#000000\" points=\"202.9308,-78.7708 204.2913,-68.2637 196.6754,-75.6291 202.9308,-78.7708\"/>\n</g>\n</g>\n</svg>\n"
          },
          "metadata": {},
          "execution_count": 9
        }
      ]
    },
    {
      "cell_type": "code",
      "metadata": {
        "colab": {
          "base_uri": "https://localhost:8080/"
        },
        "id": "mEFTasJ5Yaej",
        "outputId": "90144e0d-2ce7-469c-ea26-2db9b73aa64d"
      },
      "source": [
        "# 학습한 모델을 사용하여 예측\n",
        "predict_result = decision_tree.predict(x_data)\n",
        "\n",
        "# 예측 결과 출력 (실제 정답을 맞춘 경우 True로 표시됨)\n",
        "print(predict_result == y_data)"
      ],
      "execution_count": 10,
      "outputs": [
        {
          "output_type": "stream",
          "name": "stdout",
          "text": [
            "0     True\n",
            "1     True\n",
            "2     True\n",
            "3     True\n",
            "4     True\n",
            "5     True\n",
            "6     True\n",
            "7     True\n",
            "8     True\n",
            "9     True\n",
            "10    True\n",
            "11    True\n",
            "12    True\n",
            "13    True\n",
            "Name: play, dtype: bool\n"
          ]
        }
      ]
    },
    {
      "cell_type": "code",
      "metadata": {
        "id": "b7gHteB5vVqM"
      },
      "source": [
        ""
      ],
      "execution_count": 10,
      "outputs": []
    }
  ]
}